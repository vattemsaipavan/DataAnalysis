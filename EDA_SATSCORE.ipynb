{
  "nbformat": 4,
  "nbformat_minor": 0,
  "metadata": {
    "colab": {
      "name": "EDA_SATSCORE.ipynb",
      "provenance": [],
      "collapsed_sections": []
    },
    "kernelspec": {
      "name": "python3",
      "display_name": "Python 3"
    }
  },
  "cells": [
    {
      "cell_type": "markdown",
      "metadata": {
        "id": "_NSbvZYc_PgE"
      },
      "source": [
        "**What is Exploratory Data Analysis?**\n",
        "\n",
        "Exploratory Data Analysis or (EDA) is understanding the data sets by summarizing their main characteristics often plotting them visually. This step is very important especially when we arrive at modeling the data. Plotting in EDA consists of Histograms, Box plot, Scatter plot and many more which I will be using in my dataset."
      ]
    },
    {
      "cell_type": "markdown",
      "metadata": {
        "id": "-aakF7EX72XG"
      },
      "source": [
        "**What Data we are exploring now?**\n",
        "\n",
        "**Exploratory data analysis of the New York City school level College Board SAT results for the graduating seniors of 2010.**\n",
        "\n",
        "**Data Set:** SAT__College_Board__2010_School_Level_Results.csv\n",
        "\n",
        "**Source:** https://data.cityofnewyork.us/api/views/zt9s-n5aj/rows.csv?accessType=DOWNLOAD\n",
        "\n",
        "**Description:** Data is all about of New York City school level College Board SAT results for the graduating seniors of 2010. Records contain 2010 College-bound seniors mean SAT scores.Records with 5 or fewer students are suppressed (marked ‘s’).\n",
        "College-bound seniors are those students that complete the SAT Questionnaire when they register for the SAT and identify that they will graduate from high school in a specific year. For example, the 2010 college-bound seniors are those students that self-reported they would graduate in 2010. Students are not required to complete the SAT Questionnaire in order to register for the SAT. Students who do not indicate which year they will graduate from high school will not be included in any college-bound senior report.\n",
        "Students are linked to schools by identifying which school they attend when registering for a College Board exam. A student is only included in a school’s report if he/she self-reports being enrolled at that school.\n",
        "Data collected and processed by the College Board.\n",
        "Data is free to download and legal to access.\n",
        "\n",
        "**Size:**\n",
        "The size of the data source is 24.3 KB and also includes different types with 461 rows and 6 columns.\n",
        "\n",
        "**Aim:**\n",
        "Exploration and Analysis of the data to perform visualization."
      ]
    },
    {
      "cell_type": "markdown",
      "metadata": {
        "id": "QOFP-MX597HB"
      },
      "source": [
        "**Conclusion:** From this data set and the plots, I have observed the following:\n",
        "\n",
        "*   The highest mean scores was by STUYVESANT HIGH SCHOOL with DBN 02M475.\n",
        "*   The highest number of Test Takers were from BROOKLYN TECHNICAL HIGH SCHOOL with DBN 13K430.\n",
        "*   Very Few Schools have scored ABOVE 1800 Total average SAT Scores.\n",
        "*   The Number of Test Takers were also less in many schools in New York City in 2010."
      ]
    },
    {
      "cell_type": "markdown",
      "metadata": {
        "id": "M-t_9iZd-Ten"
      },
      "source": [
        "**Importing necessary libraries**"
      ]
    },
    {
      "cell_type": "code",
      "metadata": {
        "id": "bkIqaZRZ-VMU"
      },
      "source": [
        "import pandas as pd\n",
        "from pandas import DataFrame\n",
        "import numpy as np\n",
        "import seaborn as sns # for visualisation\n",
        "import matplotlib.pyplot as plt # for visualisation\n",
        "from matplotlib.pyplot import figure\n",
        "%matplotlib inline \n",
        "sns.set(color_codes=True)"
      ],
      "execution_count": 1,
      "outputs": []
    },
    {
      "cell_type": "markdown",
      "metadata": {
        "id": "1cXUhqxF-gvk"
      },
      "source": [
        "**Reading school level College Board SAT results of New York city csv data as Dataframe using pandas**"
      ]
    },
    {
      "cell_type": "code",
      "metadata": {
        "id": "yKAfCqRr_DaG"
      },
      "source": [
        "df = pd.read_csv('SAT__College_Board__2010_School_Level_Results.csv')"
      ],
      "execution_count": 2,
      "outputs": []
    },
    {
      "cell_type": "markdown",
      "metadata": {
        "id": "RLHO8HNwBPsI"
      },
      "source": [
        "**Using shape, able to identify the size of the data frame which gives in the format of (rows,columns)**"
      ]
    },
    {
      "cell_type": "code",
      "metadata": {
        "id": "JjGMLA91_J-x",
        "colab": {
          "base_uri": "https://localhost:8080/"
        },
        "outputId": "bb8630ed-b020-45be-a807-1aef7434bd06"
      },
      "source": [
        "df.shape "
      ],
      "execution_count": 3,
      "outputs": [
        {
          "output_type": "execute_result",
          "data": {
            "text/plain": [
              "(460, 6)"
            ]
          },
          "metadata": {},
          "execution_count": 3
        }
      ]
    },
    {
      "cell_type": "markdown",
      "metadata": {
        "id": "TPYzRX83Bg-6"
      },
      "source": [
        "**Identifying the data types of all the columns in the dataframe**"
      ]
    },
    {
      "cell_type": "code",
      "metadata": {
        "id": "LgN5V76i0wWw",
        "colab": {
          "base_uri": "https://localhost:8080/"
        },
        "outputId": "af907540-a3dd-450b-b798-afa3e514da99"
      },
      "source": [
        "df.dtypes"
      ],
      "execution_count": 4,
      "outputs": [
        {
          "output_type": "execute_result",
          "data": {
            "text/plain": [
              "DBN                       object\n",
              "School Name               object\n",
              "Number of Test Takers    float64\n",
              "Critical Reading Mean    float64\n",
              "Mathematics Mean         float64\n",
              "Writing Mean             float64\n",
              "dtype: object"
            ]
          },
          "metadata": {},
          "execution_count": 4
        }
      ]
    },
    {
      "cell_type": "markdown",
      "metadata": {
        "id": "2P5PvjoiBqO7"
      },
      "source": [
        "**Using head function, identifying the first 8 rows of the data frame**"
      ]
    },
    {
      "cell_type": "code",
      "metadata": {
        "id": "mPl_WdWi_NpL",
        "colab": {
          "base_uri": "https://localhost:8080/",
          "height": 297
        },
        "outputId": "d31a7b9b-2a64-4900-becd-917b4a6f4aac"
      },
      "source": [
        "df.head(8)  "
      ],
      "execution_count": 5,
      "outputs": [
        {
          "output_type": "execute_result",
          "data": {
            "text/html": [
              "<div>\n",
              "<style scoped>\n",
              "    .dataframe tbody tr th:only-of-type {\n",
              "        vertical-align: middle;\n",
              "    }\n",
              "\n",
              "    .dataframe tbody tr th {\n",
              "        vertical-align: top;\n",
              "    }\n",
              "\n",
              "    .dataframe thead th {\n",
              "        text-align: right;\n",
              "    }\n",
              "</style>\n",
              "<table border=\"1\" class=\"dataframe\">\n",
              "  <thead>\n",
              "    <tr style=\"text-align: right;\">\n",
              "      <th></th>\n",
              "      <th>DBN</th>\n",
              "      <th>School Name</th>\n",
              "      <th>Number of Test Takers</th>\n",
              "      <th>Critical Reading Mean</th>\n",
              "      <th>Mathematics Mean</th>\n",
              "      <th>Writing Mean</th>\n",
              "    </tr>\n",
              "  </thead>\n",
              "  <tbody>\n",
              "    <tr>\n",
              "      <th>0</th>\n",
              "      <td>01M292</td>\n",
              "      <td>Henry Street School for International Studies</td>\n",
              "      <td>31.0</td>\n",
              "      <td>391.0</td>\n",
              "      <td>425.0</td>\n",
              "      <td>385.0</td>\n",
              "    </tr>\n",
              "    <tr>\n",
              "      <th>1</th>\n",
              "      <td>01M448</td>\n",
              "      <td>University Neighborhood High School</td>\n",
              "      <td>60.0</td>\n",
              "      <td>394.0</td>\n",
              "      <td>419.0</td>\n",
              "      <td>387.0</td>\n",
              "    </tr>\n",
              "    <tr>\n",
              "      <th>2</th>\n",
              "      <td>01M450</td>\n",
              "      <td>East Side Community High School</td>\n",
              "      <td>69.0</td>\n",
              "      <td>418.0</td>\n",
              "      <td>431.0</td>\n",
              "      <td>402.0</td>\n",
              "    </tr>\n",
              "    <tr>\n",
              "      <th>3</th>\n",
              "      <td>01M458</td>\n",
              "      <td>SATELLITE ACADEMY FORSYTH ST</td>\n",
              "      <td>26.0</td>\n",
              "      <td>385.0</td>\n",
              "      <td>370.0</td>\n",
              "      <td>378.0</td>\n",
              "    </tr>\n",
              "    <tr>\n",
              "      <th>4</th>\n",
              "      <td>01M509</td>\n",
              "      <td>CMSP HIGH SCHOOL</td>\n",
              "      <td>NaN</td>\n",
              "      <td>NaN</td>\n",
              "      <td>NaN</td>\n",
              "      <td>NaN</td>\n",
              "    </tr>\n",
              "    <tr>\n",
              "      <th>5</th>\n",
              "      <td>01M515</td>\n",
              "      <td>Lower East Side Preparatory High School</td>\n",
              "      <td>154.0</td>\n",
              "      <td>314.0</td>\n",
              "      <td>532.0</td>\n",
              "      <td>314.0</td>\n",
              "    </tr>\n",
              "    <tr>\n",
              "      <th>6</th>\n",
              "      <td>01M539</td>\n",
              "      <td>New Explorations into Sci, Tech and Math HS</td>\n",
              "      <td>47.0</td>\n",
              "      <td>568.0</td>\n",
              "      <td>583.0</td>\n",
              "      <td>568.0</td>\n",
              "    </tr>\n",
              "    <tr>\n",
              "      <th>7</th>\n",
              "      <td>01M650</td>\n",
              "      <td>CASCADES HIGH SCHOOL</td>\n",
              "      <td>35.0</td>\n",
              "      <td>411.0</td>\n",
              "      <td>401.0</td>\n",
              "      <td>401.0</td>\n",
              "    </tr>\n",
              "  </tbody>\n",
              "</table>\n",
              "</div>"
            ],
            "text/plain": [
              "      DBN  ... Writing Mean\n",
              "0  01M292  ...        385.0\n",
              "1  01M448  ...        387.0\n",
              "2  01M450  ...        402.0\n",
              "3  01M458  ...        378.0\n",
              "4  01M509  ...          NaN\n",
              "5  01M515  ...        314.0\n",
              "6  01M539  ...        568.0\n",
              "7  01M650  ...        401.0\n",
              "\n",
              "[8 rows x 6 columns]"
            ]
          },
          "metadata": {},
          "execution_count": 5
        }
      ]
    },
    {
      "cell_type": "markdown",
      "metadata": {
        "id": "q6-nYsheCJ92"
      },
      "source": [
        "**Using tail function, identifying the last 8 rows of the data frame**"
      ]
    },
    {
      "cell_type": "code",
      "metadata": {
        "id": "s7DlQ9AjCPbJ",
        "colab": {
          "base_uri": "https://localhost:8080/",
          "height": 297
        },
        "outputId": "adf998ff-0c86-40d1-ba29-dc3b8ae4daa8"
      },
      "source": [
        "df.tail(8)"
      ],
      "execution_count": 6,
      "outputs": [
        {
          "output_type": "execute_result",
          "data": {
            "text/html": [
              "<div>\n",
              "<style scoped>\n",
              "    .dataframe tbody tr th:only-of-type {\n",
              "        vertical-align: middle;\n",
              "    }\n",
              "\n",
              "    .dataframe tbody tr th {\n",
              "        vertical-align: top;\n",
              "    }\n",
              "\n",
              "    .dataframe thead th {\n",
              "        text-align: right;\n",
              "    }\n",
              "</style>\n",
              "<table border=\"1\" class=\"dataframe\">\n",
              "  <thead>\n",
              "    <tr style=\"text-align: right;\">\n",
              "      <th></th>\n",
              "      <th>DBN</th>\n",
              "      <th>School Name</th>\n",
              "      <th>Number of Test Takers</th>\n",
              "      <th>Critical Reading Mean</th>\n",
              "      <th>Mathematics Mean</th>\n",
              "      <th>Writing Mean</th>\n",
              "    </tr>\n",
              "  </thead>\n",
              "  <tbody>\n",
              "    <tr>\n",
              "      <th>452</th>\n",
              "      <td>75M035</td>\n",
              "      <td>MANHATTAN HIGH SCHOOL - P35M</td>\n",
              "      <td>NaN</td>\n",
              "      <td>NaN</td>\n",
              "      <td>NaN</td>\n",
              "      <td>NaN</td>\n",
              "    </tr>\n",
              "    <tr>\n",
              "      <th>453</th>\n",
              "      <td>75Q004</td>\n",
              "      <td>P4Q SCHOOL (@ 179)</td>\n",
              "      <td>NaN</td>\n",
              "      <td>NaN</td>\n",
              "      <td>NaN</td>\n",
              "      <td>NaN</td>\n",
              "    </tr>\n",
              "    <tr>\n",
              "      <th>454</th>\n",
              "      <td>75Q256</td>\n",
              "      <td>P256 QUEENS SCHOOL @ SAINT MARY'S</td>\n",
              "      <td>NaN</td>\n",
              "      <td>NaN</td>\n",
              "      <td>NaN</td>\n",
              "      <td>NaN</td>\n",
              "    </tr>\n",
              "    <tr>\n",
              "      <th>455</th>\n",
              "      <td>75R025</td>\n",
              "      <td>South Richmond High School</td>\n",
              "      <td>10.0</td>\n",
              "      <td>407.0</td>\n",
              "      <td>421.0</td>\n",
              "      <td>400.0</td>\n",
              "    </tr>\n",
              "    <tr>\n",
              "      <th>456</th>\n",
              "      <td>75X012</td>\n",
              "      <td>PS12X LEWIS AND CLARK SCHOOL</td>\n",
              "      <td>NaN</td>\n",
              "      <td>NaN</td>\n",
              "      <td>NaN</td>\n",
              "      <td>NaN</td>\n",
              "    </tr>\n",
              "    <tr>\n",
              "      <th>457</th>\n",
              "      <td>75X754</td>\n",
              "      <td>P754 X - Jeffrey M. Rapport School for Career ...</td>\n",
              "      <td>NaN</td>\n",
              "      <td>NaN</td>\n",
              "      <td>NaN</td>\n",
              "      <td>NaN</td>\n",
              "    </tr>\n",
              "    <tr>\n",
              "      <th>458</th>\n",
              "      <td>76K460</td>\n",
              "      <td>John Jay High School</td>\n",
              "      <td>9.0</td>\n",
              "      <td>390.0</td>\n",
              "      <td>381.0</td>\n",
              "      <td>398.0</td>\n",
              "    </tr>\n",
              "    <tr>\n",
              "      <th>459</th>\n",
              "      <td>79X490</td>\n",
              "      <td>PHOENIX SCHOOL</td>\n",
              "      <td>7.0</td>\n",
              "      <td>404.0</td>\n",
              "      <td>423.0</td>\n",
              "      <td>416.0</td>\n",
              "    </tr>\n",
              "  </tbody>\n",
              "</table>\n",
              "</div>"
            ],
            "text/plain": [
              "        DBN  ... Writing Mean\n",
              "452  75M035  ...          NaN\n",
              "453  75Q004  ...          NaN\n",
              "454  75Q256  ...          NaN\n",
              "455  75R025  ...        400.0\n",
              "456  75X012  ...          NaN\n",
              "457  75X754  ...          NaN\n",
              "458  76K460  ...        398.0\n",
              "459  79X490  ...        416.0\n",
              "\n",
              "[8 rows x 6 columns]"
            ]
          },
          "metadata": {},
          "execution_count": 6
        }
      ]
    },
    {
      "cell_type": "markdown",
      "metadata": {
        "id": "9gTkuWa1_Wd1"
      },
      "source": [
        "**Finding Number of Null values in data frame**"
      ]
    },
    {
      "cell_type": "code",
      "metadata": {
        "id": "dVPCXzZx_Zf-",
        "colab": {
          "base_uri": "https://localhost:8080/"
        },
        "outputId": "da0017db-f37a-4144-d828-c51dd6bef0e8"
      },
      "source": [
        "df.isnull().sum()"
      ],
      "execution_count": 7,
      "outputs": [
        {
          "output_type": "execute_result",
          "data": {
            "text/plain": [
              "DBN                       0\n",
              "School Name               0\n",
              "Number of Test Takers    74\n",
              "Critical Reading Mean    74\n",
              "Mathematics Mean         74\n",
              "Writing Mean             74\n",
              "dtype: int64"
            ]
          },
          "metadata": {},
          "execution_count": 7
        }
      ]
    },
    {
      "cell_type": "markdown",
      "metadata": {
        "id": "sgwlmpk4BEXb"
      },
      "source": [
        "**As we found some null values, there can be 2 approaches done when we find such null values:**\n",
        "*   **filling the null values in the columns Number of Test Takers, Critical Reading Mean, Mathematics Mean and Writing Mean with 0.**\n",
        "*  **dropping the values.**\n",
        "\n",
        "**This step is certainly needed in every EDA because sometimes there would be uninformative data that we can never use in such cases dropping is the only solution.**\n",
        "\n",
        "**Here,I am dropping null data as there were no sat scores recorded for few schools.**"
      ]
    },
    {
      "cell_type": "code",
      "metadata": {
        "id": "jFXeEDn0CF5u",
        "colab": {
          "base_uri": "https://localhost:8080/"
        },
        "outputId": "38fa8c45-4307-409d-d15a-46670824af57"
      },
      "source": [
        "# df[\"Number of Test Takers\"].fillna(0, inplace = True) \n",
        "# df[\"Critical Reading Mean\"].fillna(0, inplace = True) \n",
        "# df[\"Mathematics Mean\"].fillna(0, inplace = True) \n",
        "# df[\"Writing Mean\"].fillna(0, inplace = True) \n",
        "df = df.dropna() \n",
        "df.count()"
      ],
      "execution_count": 8,
      "outputs": [
        {
          "output_type": "execute_result",
          "data": {
            "text/plain": [
              "DBN                      386\n",
              "School Name              386\n",
              "Number of Test Takers    386\n",
              "Critical Reading Mean    386\n",
              "Mathematics Mean         386\n",
              "Writing Mean             386\n",
              "dtype: int64"
            ]
          },
          "metadata": {},
          "execution_count": 8
        }
      ]
    },
    {
      "cell_type": "markdown",
      "metadata": {
        "id": "7uFFu0uNLO4t"
      },
      "source": [
        "**Renaming the coulmn Names/Labels**\n",
        "\n",
        "**This approach is done for better understanding which improves the readability of the data set.**\n",
        "\n",
        "**Here, In this dataset:** \n",
        "*   from DBN to  District Borough Number (New York City Department of Education \n",
        "school identifier), it is a school indentification number.\n",
        "*   School Name and Critical Reading Mean, Mathematics Mean and Writng Mean\n",
        "\n"
      ]
    },
    {
      "cell_type": "code",
      "metadata": {
        "id": "3I7NPaUSL1ku",
        "colab": {
          "base_uri": "https://localhost:8080/",
          "height": 297
        },
        "outputId": "1bfab8e4-75a4-4a0a-f404-23de162201f7"
      },
      "source": [
        "df=df.rename(columns = {'DBN':'District_Borough_Number','School Name':'School_Name','Number of Test Takers':'Number_of_TestTakers','Critical Reading Mean':'Reading','Mathematics Mean':'Mathematics','Writing Mean':'Writing'})\n",
        "df.head(8)"
      ],
      "execution_count": 9,
      "outputs": [
        {
          "output_type": "execute_result",
          "data": {
            "text/html": [
              "<div>\n",
              "<style scoped>\n",
              "    .dataframe tbody tr th:only-of-type {\n",
              "        vertical-align: middle;\n",
              "    }\n",
              "\n",
              "    .dataframe tbody tr th {\n",
              "        vertical-align: top;\n",
              "    }\n",
              "\n",
              "    .dataframe thead th {\n",
              "        text-align: right;\n",
              "    }\n",
              "</style>\n",
              "<table border=\"1\" class=\"dataframe\">\n",
              "  <thead>\n",
              "    <tr style=\"text-align: right;\">\n",
              "      <th></th>\n",
              "      <th>District_Borough_Number</th>\n",
              "      <th>School_Name</th>\n",
              "      <th>Number_of_TestTakers</th>\n",
              "      <th>Reading</th>\n",
              "      <th>Mathematics</th>\n",
              "      <th>Writing</th>\n",
              "    </tr>\n",
              "  </thead>\n",
              "  <tbody>\n",
              "    <tr>\n",
              "      <th>0</th>\n",
              "      <td>01M292</td>\n",
              "      <td>Henry Street School for International Studies</td>\n",
              "      <td>31.0</td>\n",
              "      <td>391.0</td>\n",
              "      <td>425.0</td>\n",
              "      <td>385.0</td>\n",
              "    </tr>\n",
              "    <tr>\n",
              "      <th>1</th>\n",
              "      <td>01M448</td>\n",
              "      <td>University Neighborhood High School</td>\n",
              "      <td>60.0</td>\n",
              "      <td>394.0</td>\n",
              "      <td>419.0</td>\n",
              "      <td>387.0</td>\n",
              "    </tr>\n",
              "    <tr>\n",
              "      <th>2</th>\n",
              "      <td>01M450</td>\n",
              "      <td>East Side Community High School</td>\n",
              "      <td>69.0</td>\n",
              "      <td>418.0</td>\n",
              "      <td>431.0</td>\n",
              "      <td>402.0</td>\n",
              "    </tr>\n",
              "    <tr>\n",
              "      <th>3</th>\n",
              "      <td>01M458</td>\n",
              "      <td>SATELLITE ACADEMY FORSYTH ST</td>\n",
              "      <td>26.0</td>\n",
              "      <td>385.0</td>\n",
              "      <td>370.0</td>\n",
              "      <td>378.0</td>\n",
              "    </tr>\n",
              "    <tr>\n",
              "      <th>5</th>\n",
              "      <td>01M515</td>\n",
              "      <td>Lower East Side Preparatory High School</td>\n",
              "      <td>154.0</td>\n",
              "      <td>314.0</td>\n",
              "      <td>532.0</td>\n",
              "      <td>314.0</td>\n",
              "    </tr>\n",
              "    <tr>\n",
              "      <th>6</th>\n",
              "      <td>01M539</td>\n",
              "      <td>New Explorations into Sci, Tech and Math HS</td>\n",
              "      <td>47.0</td>\n",
              "      <td>568.0</td>\n",
              "      <td>583.0</td>\n",
              "      <td>568.0</td>\n",
              "    </tr>\n",
              "    <tr>\n",
              "      <th>7</th>\n",
              "      <td>01M650</td>\n",
              "      <td>CASCADES HIGH SCHOOL</td>\n",
              "      <td>35.0</td>\n",
              "      <td>411.0</td>\n",
              "      <td>401.0</td>\n",
              "      <td>401.0</td>\n",
              "    </tr>\n",
              "    <tr>\n",
              "      <th>8</th>\n",
              "      <td>01M696</td>\n",
              "      <td>BARD HIGH SCHOOL EARLY COLLEGE</td>\n",
              "      <td>138.0</td>\n",
              "      <td>630.0</td>\n",
              "      <td>608.0</td>\n",
              "      <td>630.0</td>\n",
              "    </tr>\n",
              "  </tbody>\n",
              "</table>\n",
              "</div>"
            ],
            "text/plain": [
              "  District_Borough_Number  ... Writing\n",
              "0                  01M292  ...   385.0\n",
              "1                  01M448  ...   387.0\n",
              "2                  01M450  ...   402.0\n",
              "3                  01M458  ...   378.0\n",
              "5                  01M515  ...   314.0\n",
              "6                  01M539  ...   568.0\n",
              "7                  01M650  ...   401.0\n",
              "8                  01M696  ...   630.0\n",
              "\n",
              "[8 rows x 6 columns]"
            ]
          },
          "metadata": {},
          "execution_count": 9
        }
      ]
    },
    {
      "cell_type": "markdown",
      "metadata": {
        "id": "4sEKDELPGdgF"
      },
      "source": [
        "**Checking and Identifying the duplicate Data.**\n",
        "\n",
        "**This is often a handy thing to do because a huge data set  often may have some duplicate data which might be disturbing, so identifying the duplicate values and remove all them from the data-set is a good approach.**"
      ]
    },
    {
      "cell_type": "code",
      "metadata": {
        "id": "I4aYBMB_H-jF",
        "colab": {
          "base_uri": "https://localhost:8080/"
        },
        "outputId": "96be7125-1111-462b-a9fb-bbec6e835038"
      },
      "source": [
        "df.shape"
      ],
      "execution_count": 10,
      "outputs": [
        {
          "output_type": "execute_result",
          "data": {
            "text/plain": [
              "(386, 6)"
            ]
          },
          "metadata": {},
          "execution_count": 10
        }
      ]
    },
    {
      "cell_type": "code",
      "metadata": {
        "id": "lVAdtBGaG6aD",
        "colab": {
          "base_uri": "https://localhost:8080/"
        },
        "outputId": "9cbf95f9-894a-4561-a011-6551aee50f76"
      },
      "source": [
        "duplicated_rows = df[df.duplicated()]\n",
        "print('number of duplicate rows: ', duplicated_rows.shape)"
      ],
      "execution_count": 11,
      "outputs": [
        {
          "output_type": "stream",
          "name": "stdout",
          "text": [
            "number of duplicate rows:  (0, 6)\n"
          ]
        }
      ]
    },
    {
      "cell_type": "markdown",
      "metadata": {
        "id": "AipQVUoiHwX_"
      },
      "source": [
        "**Here In this dataset, as we dont have any duplicate values there no change in thr row count.**\n",
        "\n",
        "**But, if we have duplicate values we can remove them, which is done mostly.**"
      ]
    },
    {
      "cell_type": "code",
      "metadata": {
        "id": "V8_-k7WsHyGW",
        "colab": {
          "base_uri": "https://localhost:8080/"
        },
        "outputId": "a7457395-4bb7-4d00-b5a4-fb07f58c0f29"
      },
      "source": [
        "df = df.drop_duplicates()\n",
        "df.shape"
      ],
      "execution_count": 12,
      "outputs": [
        {
          "output_type": "execute_result",
          "data": {
            "text/plain": [
              "(386, 6)"
            ]
          },
          "metadata": {},
          "execution_count": 12
        }
      ]
    },
    {
      "cell_type": "markdown",
      "metadata": {
        "id": "_sMp1TOgtfpV"
      },
      "source": [
        "**Using describe function**\n",
        "\n",
        "**The describe() function in pandas is very handy in getting various summary statistics.This function returns the count, mean, standard deviation, minimum and maximum values and the quantiles of the data**"
      ]
    },
    {
      "cell_type": "code",
      "metadata": {
        "id": "jsnPDVHqtqB0",
        "colab": {
          "base_uri": "https://localhost:8080/",
          "height": 297
        },
        "outputId": "660057e1-ff1c-4cca-87f9-200599a7e18f"
      },
      "source": [
        "df.describe()"
      ],
      "execution_count": 13,
      "outputs": [
        {
          "output_type": "execute_result",
          "data": {
            "text/html": [
              "<div>\n",
              "<style scoped>\n",
              "    .dataframe tbody tr th:only-of-type {\n",
              "        vertical-align: middle;\n",
              "    }\n",
              "\n",
              "    .dataframe tbody tr th {\n",
              "        vertical-align: top;\n",
              "    }\n",
              "\n",
              "    .dataframe thead th {\n",
              "        text-align: right;\n",
              "    }\n",
              "</style>\n",
              "<table border=\"1\" class=\"dataframe\">\n",
              "  <thead>\n",
              "    <tr style=\"text-align: right;\">\n",
              "      <th></th>\n",
              "      <th>Number_of_TestTakers</th>\n",
              "      <th>Reading</th>\n",
              "      <th>Mathematics</th>\n",
              "      <th>Writing</th>\n",
              "    </tr>\n",
              "  </thead>\n",
              "  <tbody>\n",
              "    <tr>\n",
              "      <th>count</th>\n",
              "      <td>386.000000</td>\n",
              "      <td>386.000000</td>\n",
              "      <td>386.000000</td>\n",
              "      <td>386.000000</td>\n",
              "    </tr>\n",
              "    <tr>\n",
              "      <th>mean</th>\n",
              "      <td>103.658031</td>\n",
              "      <td>404.248705</td>\n",
              "      <td>412.935233</td>\n",
              "      <td>397.689119</td>\n",
              "    </tr>\n",
              "    <tr>\n",
              "      <th>std</th>\n",
              "      <td>145.264496</td>\n",
              "      <td>56.815631</td>\n",
              "      <td>64.990976</td>\n",
              "      <td>57.762584</td>\n",
              "    </tr>\n",
              "    <tr>\n",
              "      <th>min</th>\n",
              "      <td>7.000000</td>\n",
              "      <td>291.000000</td>\n",
              "      <td>281.000000</td>\n",
              "      <td>285.000000</td>\n",
              "    </tr>\n",
              "    <tr>\n",
              "      <th>25%</th>\n",
              "      <td>35.000000</td>\n",
              "      <td>370.000000</td>\n",
              "      <td>372.000000</td>\n",
              "      <td>364.000000</td>\n",
              "    </tr>\n",
              "    <tr>\n",
              "      <th>50%</th>\n",
              "      <td>54.000000</td>\n",
              "      <td>392.500000</td>\n",
              "      <td>394.500000</td>\n",
              "      <td>383.000000</td>\n",
              "    </tr>\n",
              "    <tr>\n",
              "      <th>75%</th>\n",
              "      <td>92.750000</td>\n",
              "      <td>419.000000</td>\n",
              "      <td>429.750000</td>\n",
              "      <td>414.000000</td>\n",
              "    </tr>\n",
              "    <tr>\n",
              "      <th>max</th>\n",
              "      <td>1047.000000</td>\n",
              "      <td>674.000000</td>\n",
              "      <td>735.000000</td>\n",
              "      <td>678.000000</td>\n",
              "    </tr>\n",
              "  </tbody>\n",
              "</table>\n",
              "</div>"
            ],
            "text/plain": [
              "       Number_of_TestTakers     Reading  Mathematics     Writing\n",
              "count            386.000000  386.000000   386.000000  386.000000\n",
              "mean             103.658031  404.248705   412.935233  397.689119\n",
              "std              145.264496   56.815631    64.990976   57.762584\n",
              "min                7.000000  291.000000   281.000000  285.000000\n",
              "25%               35.000000  370.000000   372.000000  364.000000\n",
              "50%               54.000000  392.500000   394.500000  383.000000\n",
              "75%               92.750000  419.000000   429.750000  414.000000\n",
              "max             1047.000000  674.000000   735.000000  678.000000"
            ]
          },
          "metadata": {},
          "execution_count": 13
        }
      ]
    },
    {
      "cell_type": "markdown",
      "metadata": {
        "id": "jxprgVlZWYGi"
      },
      "source": [
        "**Creating the coulmn Total for calculating the total SAT scores for New York City Department of Education schools.**"
      ]
    },
    {
      "cell_type": "code",
      "metadata": {
        "id": "aaHzsa_GU-lC",
        "colab": {
          "base_uri": "https://localhost:8080/",
          "height": 204
        },
        "outputId": "2d9f6ac8-855c-499b-aa79-934ce68acfc4"
      },
      "source": [
        "df['Total'] = df['Reading'] + df['Mathematics'] + df['Writing']\n",
        "df.head()"
      ],
      "execution_count": 14,
      "outputs": [
        {
          "output_type": "execute_result",
          "data": {
            "text/html": [
              "<div>\n",
              "<style scoped>\n",
              "    .dataframe tbody tr th:only-of-type {\n",
              "        vertical-align: middle;\n",
              "    }\n",
              "\n",
              "    .dataframe tbody tr th {\n",
              "        vertical-align: top;\n",
              "    }\n",
              "\n",
              "    .dataframe thead th {\n",
              "        text-align: right;\n",
              "    }\n",
              "</style>\n",
              "<table border=\"1\" class=\"dataframe\">\n",
              "  <thead>\n",
              "    <tr style=\"text-align: right;\">\n",
              "      <th></th>\n",
              "      <th>District_Borough_Number</th>\n",
              "      <th>School_Name</th>\n",
              "      <th>Number_of_TestTakers</th>\n",
              "      <th>Reading</th>\n",
              "      <th>Mathematics</th>\n",
              "      <th>Writing</th>\n",
              "      <th>Total</th>\n",
              "    </tr>\n",
              "  </thead>\n",
              "  <tbody>\n",
              "    <tr>\n",
              "      <th>0</th>\n",
              "      <td>01M292</td>\n",
              "      <td>Henry Street School for International Studies</td>\n",
              "      <td>31.0</td>\n",
              "      <td>391.0</td>\n",
              "      <td>425.0</td>\n",
              "      <td>385.0</td>\n",
              "      <td>1201.0</td>\n",
              "    </tr>\n",
              "    <tr>\n",
              "      <th>1</th>\n",
              "      <td>01M448</td>\n",
              "      <td>University Neighborhood High School</td>\n",
              "      <td>60.0</td>\n",
              "      <td>394.0</td>\n",
              "      <td>419.0</td>\n",
              "      <td>387.0</td>\n",
              "      <td>1200.0</td>\n",
              "    </tr>\n",
              "    <tr>\n",
              "      <th>2</th>\n",
              "      <td>01M450</td>\n",
              "      <td>East Side Community High School</td>\n",
              "      <td>69.0</td>\n",
              "      <td>418.0</td>\n",
              "      <td>431.0</td>\n",
              "      <td>402.0</td>\n",
              "      <td>1251.0</td>\n",
              "    </tr>\n",
              "    <tr>\n",
              "      <th>3</th>\n",
              "      <td>01M458</td>\n",
              "      <td>SATELLITE ACADEMY FORSYTH ST</td>\n",
              "      <td>26.0</td>\n",
              "      <td>385.0</td>\n",
              "      <td>370.0</td>\n",
              "      <td>378.0</td>\n",
              "      <td>1133.0</td>\n",
              "    </tr>\n",
              "    <tr>\n",
              "      <th>5</th>\n",
              "      <td>01M515</td>\n",
              "      <td>Lower East Side Preparatory High School</td>\n",
              "      <td>154.0</td>\n",
              "      <td>314.0</td>\n",
              "      <td>532.0</td>\n",
              "      <td>314.0</td>\n",
              "      <td>1160.0</td>\n",
              "    </tr>\n",
              "  </tbody>\n",
              "</table>\n",
              "</div>"
            ],
            "text/plain": [
              "  District_Borough_Number  ...   Total\n",
              "0                  01M292  ...  1201.0\n",
              "1                  01M448  ...  1200.0\n",
              "2                  01M450  ...  1251.0\n",
              "3                  01M458  ...  1133.0\n",
              "5                  01M515  ...  1160.0\n",
              "\n",
              "[5 rows x 7 columns]"
            ]
          },
          "metadata": {},
          "execution_count": 14
        }
      ]
    },
    {
      "cell_type": "markdown",
      "metadata": {
        "id": "uxM9NuxMJyoU"
      },
      "source": [
        "**Sorting the data by Total Score to know in which schools the people has scored the highest marks in the test**"
      ]
    },
    {
      "cell_type": "code",
      "metadata": {
        "id": "46YAqxQMKkJa"
      },
      "source": [
        "data = df.sort_values(by=[\"Total\"],ascending=False)"
      ],
      "execution_count": 15,
      "outputs": []
    },
    {
      "cell_type": "code",
      "metadata": {
        "id": "d4ZqzlGwNTRY",
        "colab": {
          "base_uri": "https://localhost:8080/",
          "height": 359
        },
        "outputId": "2e928ac9-355b-476b-f90e-e45d4ff167a7"
      },
      "source": [
        "data = data.head(10)\n",
        "data.head(10)"
      ],
      "execution_count": 16,
      "outputs": [
        {
          "output_type": "execute_result",
          "data": {
            "text/html": [
              "<div>\n",
              "<style scoped>\n",
              "    .dataframe tbody tr th:only-of-type {\n",
              "        vertical-align: middle;\n",
              "    }\n",
              "\n",
              "    .dataframe tbody tr th {\n",
              "        vertical-align: top;\n",
              "    }\n",
              "\n",
              "    .dataframe thead th {\n",
              "        text-align: right;\n",
              "    }\n",
              "</style>\n",
              "<table border=\"1\" class=\"dataframe\">\n",
              "  <thead>\n",
              "    <tr style=\"text-align: right;\">\n",
              "      <th></th>\n",
              "      <th>District_Borough_Number</th>\n",
              "      <th>School_Name</th>\n",
              "      <th>Number_of_TestTakers</th>\n",
              "      <th>Reading</th>\n",
              "      <th>Mathematics</th>\n",
              "      <th>Writing</th>\n",
              "      <th>Total</th>\n",
              "    </tr>\n",
              "  </thead>\n",
              "  <tbody>\n",
              "    <tr>\n",
              "      <th>42</th>\n",
              "      <td>02M475</td>\n",
              "      <td>STUYVESANT HIGH SCHOOL</td>\n",
              "      <td>804.0</td>\n",
              "      <td>674.0</td>\n",
              "      <td>735.0</td>\n",
              "      <td>678.0</td>\n",
              "      <td>2087.0</td>\n",
              "    </tr>\n",
              "    <tr>\n",
              "      <th>185</th>\n",
              "      <td>10X445</td>\n",
              "      <td>BRONX HIGH SCHOOL OF SCIENCE</td>\n",
              "      <td>683.0</td>\n",
              "      <td>632.0</td>\n",
              "      <td>685.0</td>\n",
              "      <td>643.0</td>\n",
              "      <td>1960.0</td>\n",
              "    </tr>\n",
              "    <tr>\n",
              "      <th>442</th>\n",
              "      <td>31R605</td>\n",
              "      <td>STATEN ISLAND TECHNICAL HIGH SCHOOL</td>\n",
              "      <td>287.0</td>\n",
              "      <td>638.0</td>\n",
              "      <td>673.0</td>\n",
              "      <td>617.0</td>\n",
              "      <td>1928.0</td>\n",
              "    </tr>\n",
              "    <tr>\n",
              "      <th>384</th>\n",
              "      <td>25Q525</td>\n",
              "      <td>Townsend Harris High School at Queens College</td>\n",
              "      <td>273.0</td>\n",
              "      <td>637.0</td>\n",
              "      <td>644.0</td>\n",
              "      <td>642.0</td>\n",
              "      <td>1923.0</td>\n",
              "    </tr>\n",
              "    <tr>\n",
              "      <th>193</th>\n",
              "      <td>10X696</td>\n",
              "      <td>HS of American Studies at Lehman College</td>\n",
              "      <td>74.0</td>\n",
              "      <td>635.0</td>\n",
              "      <td>630.0</td>\n",
              "      <td>619.0</td>\n",
              "      <td>1884.0</td>\n",
              "    </tr>\n",
              "    <tr>\n",
              "      <th>412</th>\n",
              "      <td>28Q687</td>\n",
              "      <td>QUEENS HS FOR SCIENCE YORK COL</td>\n",
              "      <td>99.0</td>\n",
              "      <td>613.0</td>\n",
              "      <td>650.0</td>\n",
              "      <td>612.0</td>\n",
              "      <td>1875.0</td>\n",
              "    </tr>\n",
              "    <tr>\n",
              "      <th>8</th>\n",
              "      <td>01M696</td>\n",
              "      <td>BARD HIGH SCHOOL EARLY COLLEGE</td>\n",
              "      <td>138.0</td>\n",
              "      <td>630.0</td>\n",
              "      <td>608.0</td>\n",
              "      <td>630.0</td>\n",
              "      <td>1868.0</td>\n",
              "    </tr>\n",
              "    <tr>\n",
              "      <th>235</th>\n",
              "      <td>13K430</td>\n",
              "      <td>BROOKLYN TECHNICAL HIGH SCHOOL</td>\n",
              "      <td>1047.0</td>\n",
              "      <td>588.0</td>\n",
              "      <td>652.0</td>\n",
              "      <td>581.0</td>\n",
              "      <td>1821.0</td>\n",
              "    </tr>\n",
              "    <tr>\n",
              "      <th>99</th>\n",
              "      <td>05M692</td>\n",
              "      <td>High School For Math Science Engineering City ...</td>\n",
              "      <td>106.0</td>\n",
              "      <td>592.0</td>\n",
              "      <td>627.0</td>\n",
              "      <td>575.0</td>\n",
              "      <td>1794.0</td>\n",
              "    </tr>\n",
              "    <tr>\n",
              "      <th>26</th>\n",
              "      <td>02M412</td>\n",
              "      <td>New York City Laboratory School Collab Studies</td>\n",
              "      <td>108.0</td>\n",
              "      <td>561.0</td>\n",
              "      <td>597.0</td>\n",
              "      <td>567.0</td>\n",
              "      <td>1725.0</td>\n",
              "    </tr>\n",
              "  </tbody>\n",
              "</table>\n",
              "</div>"
            ],
            "text/plain": [
              "    District_Borough_Number  ...   Total\n",
              "42                   02M475  ...  2087.0\n",
              "185                  10X445  ...  1960.0\n",
              "442                  31R605  ...  1928.0\n",
              "384                  25Q525  ...  1923.0\n",
              "193                  10X696  ...  1884.0\n",
              "412                  28Q687  ...  1875.0\n",
              "8                    01M696  ...  1868.0\n",
              "235                  13K430  ...  1821.0\n",
              "99                   05M692  ...  1794.0\n",
              "26                   02M412  ...  1725.0\n",
              "\n",
              "[10 rows x 7 columns]"
            ]
          },
          "metadata": {},
          "execution_count": 16
        }
      ]
    },
    {
      "cell_type": "markdown",
      "metadata": {
        "id": "wjgPWEejJgQr"
      },
      "source": [
        "**Plot different features against one another (scatter), against frequency (histogram)**\n",
        "*   **Histogram**"
      ]
    },
    {
      "cell_type": "code",
      "metadata": {
        "id": "3oToKSUmzX1q",
        "colab": {
          "base_uri": "https://localhost:8080/",
          "height": 547
        },
        "outputId": "ebb122a2-1c61-4ea7-81f3-52fe54d534e4"
      },
      "source": [
        "# xticklabels = list(data[\"District_Borough_Number\"])\n",
        "data.plot(kind= \"bar\",figsize=(15,8))\n",
        "plt.title(\"Average SAT Scores for 10 schools(Score Vs DBN)\")\n",
        "plt.xlabel(\"District_Borough_Number\")\n",
        "plt.ylabel(\"Score\")\n",
        "tick_marks = np.arange(len(list(data[\"District_Borough_Number\"])))\n",
        "plt.xticks(tick_marks,list(data[\"District_Borough_Number\"]),rotation=45)\n",
        "plt.show()"
      ],
      "execution_count": 17,
      "outputs": [
        {
          "output_type": "display_data",
          "data": {
            "image/png": "[encoded data removed]",
            "text/plain": [
              "<Figure size 1080x576 with 1 Axes>"
            ]
          },
          "metadata": {
            "needs_background": "light"
          }
        }
      ]
    },
    {
      "cell_type": "code",
      "metadata": {
        "id": "YgGtxoy7XJII",
        "colab": {
          "base_uri": "https://localhost:8080/",
          "height": 284
        },
        "outputId": "387fab76-4142-4f11-8a60-40450b7801fd"
      },
      "source": [
        "# Plotting a scatter plot\n",
        "plt.scatter(y='Number_of_TestTakers',x='School_Name',data=df)\n",
        "plt.ylabel('Number of Test Takers')\n",
        "plt.title('Number of Test Takers VS School')\n",
        "plt.xticks('Schools in New York City')\n",
        "plt.show()"
      ],
      "execution_count": 18,
      "outputs": [
        {
          "output_type": "display_data",
          "data": {
            "image/png": "[encoded data removed]",
            "text/plain": [
              "<Figure size 432x288 with 1 Axes>"
            ]
          },
          "metadata": {
            "needs_background": "light"
          }
        }
      ]
    },
    {
      "cell_type": "code",
      "metadata": {
        "id": "YQpmtqLwjCRz",
        "colab": {
          "base_uri": "https://localhost:8080/",
          "height": 284
        },
        "outputId": "19fbbdf5-3308-46a2-b633-82fb7a4b746f"
      },
      "source": [
        "# Plotting a scatter plot\n",
        "plt.scatter(y='Total',x='School_Name',data=df)\n",
        "plt.ylabel('Total SAT Score')\n",
        "plt.xticks('Schools in New York City')\n",
        "plt.title('Score Vs Schools')\n",
        "plt.show()"
      ],
      "execution_count": 19,
      "outputs": [
        {
          "output_type": "display_data",
          "data": {
            "image/png": "[encoded data removed]",
            "text/plain": [
              "<Figure size 432x288 with 1 Axes>"
            ]
          },
          "metadata": {
            "needs_background": "light"
          }
        }
      ]
    },
    {
      "cell_type": "code",
      "metadata": {
        "id": "Bd_c-zBlKmLg",
        "colab": {
          "base_uri": "https://localhost:8080/",
          "height": 329
        },
        "outputId": "d0ba9f23-159f-4e99-d73b-49d8da71bdc0"
      },
      "source": [
        "#Plotting a bar plot\n",
        "objects = np.arange(len(list(data[\"District_Borough_Number\"])))\n",
        "y_pos = np.arange(len(objects))\n",
        "performance =  data['Total']\n",
        "plt.bar(y_pos, performance)\n",
        "tick_marks = np.arange(len(list(data[\"District_Borough_Number\"])))\n",
        "plt.xticks(tick_marks,list(data[\"District_Borough_Number\"]),rotation=45)\n",
        "plt.ylabel('Total SAT Score')\n",
        "plt.xlabel('District_Borough_Number')\n",
        "plt.title('Total SAT Score Vs District_Borough_Number')\n",
        "plt.show()"
      ],
      "execution_count": 20,
      "outputs": [
        {
          "output_type": "display_data",
          "data": {
            "image/png": "[encoded data removed]",
            "text/plain": [
              "<Figure size 432x288 with 1 Axes>"
            ]
          },
          "metadata": {
            "needs_background": "light"
          }
        }
      ]
    },
    {
      "cell_type": "code",
      "metadata": {
        "id": "xlf4FrrFA1WH",
        "colab": {
          "base_uri": "https://localhost:8080/",
          "height": 446
        },
        "outputId": "d33a9b85-e1bd-4754-938d-607103ea3a09"
      },
      "source": [
        "fig,axs = plt.subplots(1,3,figsize=(18,6))\n",
        "data.plot.bar('District_Borough_Number','Reading',ax=axs[0])\n",
        "data.plot.bar('District_Borough_Number','Mathematics',ax=axs[1])\n",
        "data.plot.bar('District_Borough_Number','Writing',ax=axs[2])"
      ],
      "execution_count": 21,
      "outputs": [
        {
          "output_type": "execute_result",
          "data": {
            "text/plain": [
              "<matplotlib.axes._subplots.AxesSubplot at 0x7ff7a989db50>"
            ]
          },
          "metadata": {},
          "execution_count": 21
        },
        {
          "output_type": "display_data",
          "data": {
            "image/png": "[encoded data removed]",
            "text/plain": [
              "<Figure size 1296x432 with 3 Axes>"
            ]
          },
          "metadata": {
            "needs_background": "light"
          }
        }
      ]
    },
    {
      "cell_type": "code",
      "metadata": {
        "id": "4nzvuDGfaOgC",
        "colab": {
          "base_uri": "https://localhost:8080/",
          "height": 264
        },
        "outputId": "d016438e-7ff7-46ce-9090-1bfbe2fa39df"
      },
      "source": [
        "# Data to plot\n",
        "labels = ['Reading',\"Mathematics\",\"Writing\"]\n",
        "sizes = [data['Reading'].values[0],data['Mathematics'].values[0],data['Writing'].values[0]]\n",
        "colors = ['gold', 'yellowgreen', 'lightcoral']\n",
        "explode = (0, 0, 0)  # explode 1st slice\n",
        "# Plot\n",
        "plt.pie(sizes, explode=explode, labels=labels, colors=colors,\n",
        "autopct='%1.1f%%', shadow=True, startangle=140)\n",
        "plt.title('SAT SCORES IN STUYVESANT HIGH SCHOOL')\n",
        "plt.axis('equal')\n",
        "plt.show()"
      ],
      "execution_count": 22,
      "outputs": [
        {
          "output_type": "display_data",
          "data": {
            "image/png": "[encoded data removed]",
            "text/plain": [
              "<Figure size 432x288 with 1 Axes>"
            ]
          },
          "metadata": {}
        }
      ]
    },
    {
      "cell_type": "markdown",
      "metadata": {
        "id": "mXGokp09kw-6"
      },
      "source": [
        "**BRIEF SUMMARY:**\n",
        "\n",
        "Things learnt and done with my dataset.\n",
        "*   Read the DataSet.Identify the shape and summarize the main features in the dataset.\n",
        "*  Clean the data, removing the uniformative data and also by not having any important data lose.\n",
        "*  Plotting and Visualising the data appropriately with suitable plots which imporves understanding and Readability."
      ]
    }
  ]
}